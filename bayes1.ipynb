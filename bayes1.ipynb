{
  "cells": [
    {
      "metadata": {
        "trusted": true
      },
      "cell_type": "code",
      "source": "p_s_p = 50/500\np_s_d = 450/500\np_s_f = 500/500\n\np_w_p = 500/500\np_w_d = 0/500\np_w_f = 0/500\n\np_g_p = 400/500\np_g_d = 0/500\np_g_f = 100/500\n\np_t_p = 0/500\np_t_d = 500/500\np_t_f = 50/500\n\np_p = 500/1500\np_d = 500/1500\np_f = 500/1500\n\n#opposite is 1-probablity\n\ndef computeBayes(s, w, g, t, animaltype):\n    return s * w * g * t * animaltype\n\n# Swim, No wings, not green, teeth\n\np_snwngt_parrot = computeBayes(p_s_p, (1-p_w_p), (1-p_g_p), p_t_p, p_p)\n\np_snwngt_dog = computeBayes(p_s_d, (1-p_w_d), (1-p_g_d), p_t_d, p_d)\n\np_snwngt_fish = computeBayes(p_s_f, (1-p_w_f), (1-p_g_f), p_t_f, p_f)\n\nprint(p_snwngt_dog, p_snwngt_fish, p_snwngt_parrot) #output is probability",
      "execution_count": 4,
      "outputs": [
        {
          "output_type": "stream",
          "text": "0.3 0.026666666666666672 0.0\n",
          "name": "stdout"
        }
      ]
    },
    {
      "metadata": {
        "trusted": true
      },
      "cell_type": "code",
      "source": "",
      "execution_count": null,
      "outputs": []
    }
  ],
  "metadata": {
    "kernelspec": {
      "name": "python36",
      "display_name": "Python 3.6",
      "language": "python"
    },
    "language_info": {
      "mimetype": "text/x-python",
      "nbconvert_exporter": "python",
      "name": "python",
      "pygments_lexer": "ipython3",
      "version": "3.6.6",
      "file_extension": ".py",
      "codemirror_mode": {
        "version": 3,
        "name": "ipython"
      }
    }
  },
  "nbformat": 4,
  "nbformat_minor": 2
}